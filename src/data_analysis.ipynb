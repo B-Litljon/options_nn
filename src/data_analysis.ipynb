{
 "cells": [
  {
   "cell_type": "code",
   "execution_count": 1,
   "metadata": {},
   "outputs": [
    {
     "ename": "TypeError",
     "evalue": "AlpacaData.__init__() missing 1 required positional argument: 'timeframe'",
     "output_type": "error",
     "traceback": [
      "\u001b[0;31m---------------------------------------------------------------------------\u001b[0m",
      "\u001b[0;31mTypeError\u001b[0m                                 Traceback (most recent call last)",
      "Cell \u001b[0;32mIn[1], line 8\u001b[0m\n\u001b[1;32m      5\u001b[0m api_key \u001b[38;5;241m=\u001b[39m os\u001b[38;5;241m.\u001b[39menviron\u001b[38;5;241m.\u001b[39mget(\u001b[38;5;124m'\u001b[39m\u001b[38;5;124mAPI_KEY\u001b[39m\u001b[38;5;124m'\u001b[39m)\n\u001b[1;32m      6\u001b[0m secret_key \u001b[38;5;241m=\u001b[39m os\u001b[38;5;241m.\u001b[39menviron\u001b[38;5;241m.\u001b[39mget(\u001b[38;5;124m'\u001b[39m\u001b[38;5;124mAPI_SECRET\u001b[39m\u001b[38;5;124m'\u001b[39m)\n\u001b[0;32m----> 8\u001b[0m \u001b[43mAlpacaData\u001b[49m\u001b[43m(\u001b[49m\u001b[43mapi_key\u001b[49m\u001b[43m,\u001b[49m\u001b[43m \u001b[49m\u001b[43msecret_key\u001b[49m\u001b[43m)\u001b[49m\u001b[38;5;241m.\u001b[39mrequest_most_actives()\n",
      "\u001b[0;31mTypeError\u001b[0m: AlpacaData.__init__() missing 1 required positional argument: 'timeframe'"
     ]
    }
   ],
   "source": [
    "from alpaca_data import AlpacaData\n",
    "import dotenv\n",
    "import os\n",
    "\n",
    "api_key = os.environ.get('API_KEY')\n",
    "secret_key = os.environ.get('API_SECRET')\n",
    "\n",
    "AlpacaData(api_key, secret_key).request_most_actives()"
   ]
  }
 ],
 "metadata": {
  "kernelspec": {
   "display_name": "options_nn-vOt22i7W",
   "language": "python",
   "name": "python3"
  },
  "language_info": {
   "codemirror_mode": {
    "name": "ipython",
    "version": 3
   },
   "file_extension": ".py",
   "mimetype": "text/x-python",
   "name": "python",
   "nbconvert_exporter": "python",
   "pygments_lexer": "ipython3",
   "version": "3.10.12"
  }
 },
 "nbformat": 4,
 "nbformat_minor": 2
}
