{
 "cells": [
  {
   "cell_type": "code",
   "execution_count": 2,
   "metadata": {},
   "outputs": [
    {
     "ename": "TypeError",
     "evalue": "NonEmptyRequest.to_request_fields() missing 1 required positional argument: 'self'",
     "output_type": "error",
     "traceback": [
      "\u001b[0;31m---------------------------------------------------------------------------\u001b[0m",
      "\u001b[0;31mTypeError\u001b[0m                                 Traceback (most recent call last)",
      "Cell \u001b[0;32mIn[2], line 9\u001b[0m\n\u001b[1;32m      6\u001b[0m secret_key \u001b[38;5;241m=\u001b[39m os\u001b[38;5;241m.\u001b[39menviron\u001b[38;5;241m.\u001b[39mget(\u001b[38;5;124m'\u001b[39m\u001b[38;5;124mAPI_SECRET\u001b[39m\u001b[38;5;124m'\u001b[39m)\n\u001b[1;32m      8\u001b[0m \u001b[38;5;66;03m# Get the data\u001b[39;00m\n\u001b[0;32m----> 9\u001b[0m \u001b[43mWatchlist\u001b[49m\u001b[43m(\u001b[49m\u001b[43mapi_key\u001b[49m\u001b[43m,\u001b[49m\u001b[43m \u001b[49m\u001b[43msecret_key\u001b[49m\u001b[43m)\u001b[49m\u001b[38;5;241;43m.\u001b[39;49m\u001b[43mrequest_most_active_assets\u001b[49m\u001b[43m(\u001b[49m\u001b[43m)\u001b[49m\n\u001b[1;32m     11\u001b[0m \u001b[38;5;66;03m# print(f{high_volume_assets})\u001b[39;00m\n",
      "File \u001b[0;32m~/mystuf/development/options_nn/src/alpaca_data.py:36\u001b[0m, in \u001b[0;36mWatchlist.request_most_active_assets\u001b[0;34m(self)\u001b[0m\n\u001b[1;32m     34\u001b[0m \u001b[38;5;28;01mdef\u001b[39;00m \u001b[38;5;21mrequest_most_active_assets\u001b[39m(\u001b[38;5;28mself\u001b[39m): \n\u001b[1;32m     35\u001b[0m     request_params \u001b[38;5;241m=\u001b[39m MostActivesRequest\n\u001b[0;32m---> 36\u001b[0m     response \u001b[38;5;241m=\u001b[39m \u001b[38;5;28;43mself\u001b[39;49m\u001b[38;5;241;43m.\u001b[39;49m\u001b[43mstock_screener\u001b[49m\u001b[38;5;241;43m.\u001b[39;49m\u001b[43mget_most_actives\u001b[49m\u001b[43m(\u001b[49m\u001b[43mrequest_params\u001b[49m\u001b[43m)\u001b[49m\n\u001b[1;32m     37\u001b[0m     high_volume_assets \u001b[38;5;241m=\u001b[39m response[\u001b[38;5;124m'\u001b[39m\u001b[38;5;124mmost_actives\u001b[39m\u001b[38;5;124m'\u001b[39m] \n\u001b[1;32m     39\u001b[0m     \u001b[38;5;28;01mfor\u001b[39;00m asset \u001b[38;5;129;01min\u001b[39;00m high_volume_assets:\n",
      "File \u001b[0;32m~/.local/share/virtualenvs/options_nn-vOt22i7W/lib/python3.10/site-packages/alpaca/data/historical/screener.py:56\u001b[0m, in \u001b[0;36mScreenerClient.get_most_actives\u001b[0;34m(self, request_params)\u001b[0m\n\u001b[1;32m     50\u001b[0m \u001b[38;5;28;01mdef\u001b[39;00m \u001b[38;5;21mget_most_actives\u001b[39m(\n\u001b[1;32m     51\u001b[0m     \u001b[38;5;28mself\u001b[39m, request_params: MostActivesRequest\n\u001b[1;32m     52\u001b[0m ) \u001b[38;5;241m-\u001b[39m\u001b[38;5;241m>\u001b[39m Union[RawData, MostActives]:\n\u001b[1;32m     53\u001b[0m \u001b[38;5;250m    \u001b[39m\u001b[38;5;124;03m\"\"\"Returns most active stocks.\"\"\"\u001b[39;00m\n\u001b[1;32m     54\u001b[0m     response \u001b[38;5;241m=\u001b[39m \u001b[38;5;28mself\u001b[39m\u001b[38;5;241m.\u001b[39mget(\n\u001b[1;32m     55\u001b[0m         path\u001b[38;5;241m=\u001b[39m\u001b[38;5;124m\"\u001b[39m\u001b[38;5;124m/screener/stocks/most-actives\u001b[39m\u001b[38;5;124m\"\u001b[39m,\n\u001b[0;32m---> 56\u001b[0m         data\u001b[38;5;241m=\u001b[39m\u001b[43mrequest_params\u001b[49m\u001b[38;5;241;43m.\u001b[39;49m\u001b[43mto_request_fields\u001b[49m\u001b[43m(\u001b[49m\u001b[43m)\u001b[49m,\n\u001b[1;32m     57\u001b[0m     )\n\u001b[1;32m     58\u001b[0m     \u001b[38;5;28;01mif\u001b[39;00m \u001b[38;5;28mself\u001b[39m\u001b[38;5;241m.\u001b[39m_use_raw_data:\n\u001b[1;32m     59\u001b[0m         \u001b[38;5;28;01mreturn\u001b[39;00m response\n",
      "\u001b[0;31mTypeError\u001b[0m: NonEmptyRequest.to_request_fields() missing 1 required positional argument: 'self'"
     ]
    }
   ],
   "source": [
    "from alpaca_data import Watchlist\n",
    "import dotenv\n",
    "import os\n",
    "\n",
    "api_key = os.environ.get('API_KEY')\n",
    "secret_key = os.environ.get('API_SECRET')\n",
    "\n",
    "# Get the data\n",
    "Watchlist(api_key, secret_key).request_most_active_assets()\n",
    "\n",
    "# print(f{high_volume_assets})"
   ]
  }
 ],
 "metadata": {
  "kernelspec": {
   "display_name": "options_nn-vOt22i7W",
   "language": "python",
   "name": "python3"
  },
  "language_info": {
   "codemirror_mode": {
    "name": "ipython",
    "version": 3
   },
   "file_extension": ".py",
   "mimetype": "text/x-python",
   "name": "python",
   "nbconvert_exporter": "python",
   "pygments_lexer": "ipython3",
   "version": "3.10.12"
  }
 },
 "nbformat": 4,
 "nbformat_minor": 2
}
